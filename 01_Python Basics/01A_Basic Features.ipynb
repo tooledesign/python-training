{
 "cells": [
  {
   "cell_type": "markdown",
   "metadata": {},
   "source": [
    "# Python Features"
   ]
  },
  {
   "cell_type": "markdown",
   "metadata": {},
   "source": [
    "## Basic Types"
   ]
  },
  {
   "cell_type": "code",
   "execution_count": null,
   "metadata": {},
   "outputs": [],
   "source": [
    "# Basic types\n",
    "# Strings are sequences of characters, using the syntax of either single or double quotes\n",
    "name = 'Tariq'     # type(name) = str\n",
    "# Integers are whole numbers\n",
    "age = 22           # type(age) = int\n",
    "# Floats are numbers with a decimal point\n",
    "height = 6.1       # type(height) = float\n",
    "# Booleans represent one of two values: True or False\n",
    "is_student = True  # type(is_student) = bool"
   ]
  },
  {
   "cell_type": "code",
   "execution_count": 20,
   "metadata": {},
   "outputs": [
    {
     "name": "stdout",
     "output_type": "stream",
     "text": [
      "Hello world! My name is Bobby, I am 25 years old and 6.1 feet tall. It is True that I am a student.\n"
     ]
    }
   ],
   "source": [
    "print(f\"Hello world! My name is {name}, I am {age} years old and {height} feet tall. It is {is_student} that I am a student.\")"
   ]
  },
  {
   "cell_type": "markdown",
   "metadata": {},
   "source": [
    "## Collections"
   ]
  },
  {
   "cell_type": "code",
   "execution_count": 21,
   "metadata": {},
   "outputs": [],
   "source": [
    "# Collections\n",
    "favorites = ['banana', 'apple', 'orange'] # type(favorites) = list\n",
    "favorites = ('banana', 'apple', 'orange') # type(favorites) = tuple\n",
    "favorites = {'banana', 'apple', 'orange'} # type(favorites) = set\n",
    "favorites = { # type(favorites) = dict\n",
    "    'sport': 'baseball',\n",
    "    'number': 42,\n",
    "    'fruit': ['banana', 'apple', 'orange'],\n",
    "    'type': dict\n",
    "}"
   ]
  },
  {
   "cell_type": "code",
   "execution_count": 22,
   "metadata": {},
   "outputs": [
    {
     "name": "stdout",
     "output_type": "stream",
     "text": [
      "My favorite sport is baseball and my favorite fruit is banana.\n"
     ]
    }
   ],
   "source": [
    "print(f\"My favorite sport is {favorites['sport']} and my favorite fruit is {favorites['fruit'][0]}.\")"
   ]
  },
  {
   "cell_type": "markdown",
   "metadata": {},
   "source": [
    "## Operators"
   ]
  },
  {
   "cell_type": "markdown",
   "metadata": {},
   "source": [
    "### Arithmetic"
   ]
  },
  {
   "cell_type": "code",
   "execution_count": null,
   "metadata": {},
   "outputs": [],
   "source": [
    "# Arithmetic\n",
    "a = 10\n",
    "b = 20\n",
    "# Arithmetic operators use standard mathematical notation\n",
    "c = a + b   # Addition = 30\n",
    "d = a - b   # Subtraction = -10\n",
    "e = a * b   # Multiplication = 200\n",
    "f = a / b   # Division = 0.5\n",
    "g = a // b  # Floor division = 0\n",
    "h = a % b   # Modulus = 10\n",
    "i = a ** b  # Exponentiation = 10^20"
   ]
  },
  {
   "cell_type": "markdown",
   "metadata": {},
   "source": [
    "### Logical"
   ]
  },
  {
   "cell_type": "code",
   "execution_count": null,
   "metadata": {},
   "outputs": [],
   "source": [
    "# What about booleans?\n",
    "bool1 = True\n",
    "bool2 = False\n",
    "# Boolean operators compare statements and return a boolean value\n",
    "bool3 = not bool1      # Negation = False\n",
    "bool4 = bool1 and bool2 # Logical AND = False (can also use &)\n",
    "bool5 = bool1 or bool2  # Logical OR = True (can also use |)\n",
    "bool6 = bool1 == bool2  # Equality = False\n",
    "bool7 = bool1 != bool2  # Inequality = True"
   ]
  },
  {
   "cell_type": "code",
   "execution_count": null,
   "metadata": {},
   "outputs": [],
   "source": [
    "# Comparison operators\n",
    "name1 = 'Renad'\n",
    "name2 = 'Sam'\n",
    "age1 = 25\n",
    "age2 = 30\n",
    "# Comparison operators compare values and return a boolean value\n",
    "comp1 = name1 == name2 # Equality = False\n",
    "comp2 = name1 != name2 # Inequality = True\n",
    "comp3 = age1 < age2    # Less than = True\n",
    "comp4 = age1 > age2    # Greater than = False\n",
    "comp5 = age1 <= age2   # Less than or equal to = True\n",
    "comp6 = age1 >= age2   # Greater than or equal to = False"
   ]
  },
  {
   "cell_type": "markdown",
   "metadata": {},
   "source": [
    "### Indexing"
   ]
  },
  {
   "cell_type": "code",
   "execution_count": 24,
   "metadata": {},
   "outputs": [],
   "source": [
    "# Indexing and slicing lists\n",
    "list1 = [1, 2, 3]\n",
    "list2 = [4, 5, 6]\n",
    "list3 = list1 + list2  # Concatenation = [1, 2, 3, 4, 5, 6]\n",
    "list4 = list1 * 3      # Repetition = [1, 2, 3, 1, 2, 3, 1, 2, 3]\n",
    "list5 = list1[0]       # Indexing = 1\n",
    "list6 = list1[1:3]     # Slicing = [2, 3]\n",
    "list7 = list1[-1]      # Negative indexing = 3\n",
    "list8 = list1[-3:]     # Negative slicing = [1, 2, 3]"
   ]
  },
  {
   "cell_type": "code",
   "execution_count": 25,
   "metadata": {},
   "outputs": [],
   "source": [
    "# What about strings?\n",
    "str1 = \"Hello\"\n",
    "str2 = \"World\"\n",
    "str3 = str1 + \" \" + str2  # Concatenation = \"Hello World\"\n",
    "str4 = str1 * 3           # Repetition = \"HelloHelloHello\"\n",
    "str5 = str1[0]            # Indexing = \"H\"\n",
    "str6 = str1[1:3]          # Slicing = \"el\"\n",
    "str7 = str1[-1]           # Negative indexing = \"o\"\n",
    "str8 = str1[-3:]        # Negative slicing = \"llo\""
   ]
  },
  {
   "cell_type": "markdown",
   "metadata": {},
   "source": [
    "## Functions"
   ]
  },
  {
   "cell_type": "markdown",
   "metadata": {},
   "source": [
    "Python has many built-in functions for doing basic operations like summing, explicitly creating variables, and iterating."
   ]
  },
  {
   "cell_type": "code",
   "execution_count": 14,
   "metadata": {},
   "outputs": [
    {
     "name": "stdout",
     "output_type": "stream",
     "text": [
      "Hello world!\n"
     ]
    }
   ],
   "source": [
    "# The most basic function...\n",
    "print(\"Hello world!\") # Output: Hello world!"
   ]
  },
  {
   "cell_type": "code",
   "execution_count": 15,
   "metadata": {},
   "outputs": [
    {
     "data": {
      "text/plain": [
       "5"
      ]
     },
     "execution_count": 15,
     "metadata": {},
     "output_type": "execute_result"
    }
   ],
   "source": [
    "# Basic functions for collections\n",
    "sum([1, 2, 3, 4, 5]) # 15\n",
    "max([1, 2, 3, 4, 5]) # 5\n",
    "min([1, 2, 3, 4, 5]) # 1\n",
    "len([1, 2, 3, 4, 5]) # 5"
   ]
  },
  {
   "cell_type": "code",
   "execution_count": null,
   "metadata": {},
   "outputs": [],
   "source": [
    "# Helpful functions for strings\n",
    "str1 = \"Hello world!\"\n",
    "str2 = str1.lower() # \"hello world!\"\n",
    "str3 = str1.upper() # \"HELLO WORLD!\"\n",
    "str4 = str1.split(' ') # [\"Hello\", \"world!\"]\n",
    "str5 = str1.replace('world', 'universe') # \"Hello universe!\"\n",
    "str6 = ' & '.join(['apples', 'bananas', 'oranges']) # \"apples & bananas & oranges\""
   ]
  },
  {
   "cell_type": "code",
   "execution_count": null,
   "metadata": {},
   "outputs": [],
   "source": [
    "# Creating our own functions\n",
    "def add(a, b):\n",
    "    return a + b\n",
    "add(10, 20) # 30"
   ]
  },
  {
   "cell_type": "markdown",
   "metadata": {},
   "source": [
    "## Conditional Statements"
   ]
  },
  {
   "cell_type": "code",
   "execution_count": null,
   "metadata": {},
   "outputs": [
    {
     "name": "stdout",
     "output_type": "stream",
     "text": [
      "banana is one of my favorite fruits.\n"
     ]
    }
   ],
   "source": [
    "# Conditional statements allow us to execute code based on certain conditions\n",
    "favorites = ['banana', 'apple', 'orange']\n",
    "# Do I like bananas?\n",
    "test_case = 'banana'\n",
    "if test_case in favorites:\n",
    "    print(f\"{test_case} is one of my favorite fruits.\")\n",
    "else:\n",
    "    print(f\"{test_case} is not one of my favorite fruits.\")"
   ]
  },
  {
   "cell_type": "markdown",
   "metadata": {},
   "source": [
    "Let's make it a bit more complex with an example..."
   ]
  },
  {
   "cell_type": "code",
   "execution_count": null,
   "metadata": {},
   "outputs": [],
   "source": [
    "# Conditional statements\n",
    "student1 = {\n",
    "    'name': 'Renad',\n",
    "    'age': 25,\n",
    "    'score': 94\n",
    "}\n",
    "student2 = {\n",
    "    'name': 'Sam',\n",
    "    'age': 30,\n",
    "    'score': 53\n",
    "}"
   ]
  },
  {
   "cell_type": "code",
   "execution_count": null,
   "metadata": {},
   "outputs": [],
   "source": [
    "# A slightly more complex example...\n",
    "if student1['score'] > student2['score']:\n",
    "    print(f\"{student1['name']} has a higher score than {student2['name']}.\")\n",
    "elif student1['score'] < student2['score']:\n",
    "    print(f\"{student2['name']} has a higher score than {student1['name']}.\")\n",
    "else:\n",
    "    print(f\"{student1['name']} and {student2['name']} have the same score.\")"
   ]
  },
  {
   "cell_type": "markdown",
   "metadata": {},
   "source": [
    "Let's add some more students. Having lots of variables like `student1`, `student2`, etc. is not very convenient. Instead, let's use a `list` of students!"
   ]
  },
  {
   "cell_type": "code",
   "execution_count": null,
   "metadata": {},
   "outputs": [],
   "source": [
    "students = [\n",
    "    {\n",
    "        'name': 'Renad',\n",
    "        'age': 25,\n",
    "        'score': 94,\n",
    "        'program': 'Media'\n",
    "    },\n",
    "    {\n",
    "        'name': 'Sam',\n",
    "        'age': 30,\n",
    "        'score': 53,\n",
    "        'program': 'Computer Science'\n",
    "    },\n",
    "    {\n",
    "        'name': 'Tariq',\n",
    "        'age': 22,\n",
    "        'score': 85,\n",
    "        'program': 'Media'\n",
    "    },\n",
    "    {\n",
    "        'name': 'Caleb',\n",
    "        'age': 27,\n",
    "        'score': 74,\n",
    "        'program': 'Computer Science'\n",
    "    },\n",
    "    {\n",
    "        'name': 'Sereen',\n",
    "        'age': 23,\n",
    "        'score': 88,\n",
    "        'program': 'Engineering'\n",
    "    },\n",
    "    {\n",
    "        'name': 'Layla',\n",
    "        'age': 29,\n",
    "        'score': 90,\n",
    "        'program': 'Engineering'\n",
    "    }\n",
    "]"
   ]
  },
  {
   "cell_type": "code",
   "execution_count": null,
   "metadata": {},
   "outputs": [],
   "source": [
    "# Loops allow us to iterate over collections"
   ]
  }
 ],
 "metadata": {
  "kernelspec": {
   "display_name": "venv",
   "language": "python",
   "name": "python3"
  },
  "language_info": {
   "codemirror_mode": {
    "name": "ipython",
    "version": 3
   },
   "file_extension": ".py",
   "mimetype": "text/x-python",
   "name": "python",
   "nbconvert_exporter": "python",
   "pygments_lexer": "ipython3",
   "version": "3.12.3"
  }
 },
 "nbformat": 4,
 "nbformat_minor": 2
}
