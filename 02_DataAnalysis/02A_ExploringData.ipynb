{
 "cells": [
  {
   "cell_type": "markdown",
   "metadata": {},
   "source": [
    "# Load Dependencies"
   ]
  },
  {
   "cell_type": "code",
   "execution_count": 1,
   "metadata": {},
   "outputs": [],
   "source": [
    "import numpy as np\n",
    "import pandas as pd; pd.options.display.max_columns = 200\n",
    "import geopandas as gpd\n",
    "import linref as lr"
   ]
  },
  {
   "cell_type": "markdown",
   "metadata": {},
   "source": [
    "# Load Data"
   ]
  },
  {
   "cell_type": "code",
   "execution_count": 2,
   "metadata": {},
   "outputs": [
    {
     "name": "stderr",
     "output_type": "stream",
     "text": [
      "/home/tshihadah/code/python-training/venv/lib/python3.12/site-packages/pyogrio/core.py:130: UserWarning: Measured (M) geometry types are not supported. Original type 'Measured MultiLineString' is converted to 'MultiLineString'\n",
      "  return ogr_list_layers(get_vsi_path_or_buffer(path_or_buffer))\n"
     ]
    },
    {
     "data": {
      "text/html": [
       "<div>\n",
       "<style scoped>\n",
       "    .dataframe tbody tr th:only-of-type {\n",
       "        vertical-align: middle;\n",
       "    }\n",
       "\n",
       "    .dataframe tbody tr th {\n",
       "        vertical-align: top;\n",
       "    }\n",
       "\n",
       "    .dataframe thead th {\n",
       "        text-align: right;\n",
       "    }\n",
       "</style>\n",
       "<table border=\"1\" class=\"dataframe\">\n",
       "  <thead>\n",
       "    <tr style=\"text-align: right;\">\n",
       "      <th></th>\n",
       "      <th>name</th>\n",
       "      <th>geometry_type</th>\n",
       "    </tr>\n",
       "  </thead>\n",
       "  <tbody>\n",
       "    <tr>\n",
       "      <th>0</th>\n",
       "      <td>Crashes_2019_2023</td>\n",
       "      <td>Point</td>\n",
       "    </tr>\n",
       "    <tr>\n",
       "      <th>1</th>\n",
       "      <td>road_inventory_franklin_county — road_inventory</td>\n",
       "      <td>MultiLineString</td>\n",
       "    </tr>\n",
       "    <tr>\n",
       "      <th>2</th>\n",
       "      <td>layer_styles</td>\n",
       "      <td>None</td>\n",
       "    </tr>\n",
       "  </tbody>\n",
       "</table>\n",
       "</div>"
      ],
      "text/plain": [
       "                                              name    geometry_type\n",
       "0                                Crashes_2019_2023            Point\n",
       "1  road_inventory_franklin_county — road_inventory  MultiLineString\n",
       "2                                     layer_styles             None"
      ]
     },
     "execution_count": 2,
     "metadata": {},
     "output_type": "execute_result"
    }
   ],
   "source": [
    "fp = '/mnt/h/H0000/00CMH.00251.00_S_ODOT HSIP Safety Services/02C Python Training/Example Data/franklin_county_sample_data.gpkg'\n",
    "gpd.list_layers(fp)"
   ]
  },
  {
   "cell_type": "code",
   "execution_count": 31,
   "metadata": {},
   "outputs": [
    {
     "name": "stderr",
     "output_type": "stream",
     "text": [
      "/home/tshihadah/code/python-training/venv/lib/python3.12/site-packages/pyogrio/raw.py:198: UserWarning: Measured (M) geometry types are not supported. Original type 'Measured MultiLineString' is converted to 'MultiLineString'\n",
      "  return ogr_read(\n"
     ]
    }
   ],
   "source": [
    "# Point this to the location of the Geopackage file\n",
    "fp = '/mnt/h/H0000/00CMH.00251.00_S_ODOT HSIP Safety Services/02C Python Training/Example Data/franklin_county_sample_data.gpkg'\n",
    "\n",
    "# Load crash data\n",
    "crashes = gpd.read_file(fp, layer='Crashes_2019_2023').to_crs('EPSG:3857')\n",
    "\n",
    "# Load road data\n",
    "roadways = gpd.read_file(fp, layer='road_inventory_franklin_county — road_inventory').to_crs('EPSG:3857')"
   ]
  },
  {
   "cell_type": "code",
   "execution_count": 32,
   "metadata": {},
   "outputs": [
    {
     "data": {
      "text/plain": [
       "(5110, 103)"
      ]
     },
     "execution_count": 32,
     "metadata": {},
     "output_type": "execute_result"
    }
   ],
   "source": [
    "roadways_select = roadways[roadways.FUNCTION_C.isin([3, 4, 5, 6])]\n",
    "roadways_select.shape"
   ]
  },
  {
   "cell_type": "code",
   "execution_count": 37,
   "metadata": {},
   "outputs": [
    {
     "data": {
      "text/plain": [
       "(25872, 150)"
      ]
     },
     "execution_count": 37,
     "metadata": {},
     "output_type": "execute_result"
    }
   ],
   "source": [
    "spatial_matches = crashes.sjoin_nearest(roadways_select[['geometry']], 'inner', max_distance=100, exclusive=False)\n",
    "crashes_select = crashes[(crashes.CRASH_SEVERITY_CD.isin([1, 2, 3, 4])) & crashes.NLFID.isin(roadways_select.NLF_ID) & (crashes.OBJECTID.isin(spatial_matches.OBJECTID))]\n",
    "crashes_select.shape"
   ]
  },
  {
   "cell_type": "code",
   "execution_count": 46,
   "metadata": {},
   "outputs": [],
   "source": [
    "fp = '/mnt/h/H0000/00CMH.00251.00_S_ODOT HSIP Safety Services/02C Python Training/Example Data/franklin_county_training_data.gpkg'\n",
    "crashes_select.to_file(fp, layer='crashes', driver='GPKG')\n",
    "roadways_select.to_file(fp, layer='roadways', driver='GPKG')"
   ]
  },
  {
   "cell_type": "markdown",
   "metadata": {},
   "source": [
    "# Crash Data Cleanup"
   ]
  },
  {
   "cell_type": "markdown",
   "metadata": {},
   "source": [
    "## Decoding and Binning"
   ]
  },
  {
   "cell_type": "markdown",
   "metadata": {},
   "source": [
    "Data dictionary available here: https://www.dot.state.oh.us/Divisions/Planning/LocalPrograms/LTAP/Documents/Crash_Data_Dictionary.pdf?ID=1229/1000"
   ]
  },
  {
   "cell_type": "markdown",
   "metadata": {},
   "source": [
    "# Roadway Data Cleanup"
   ]
  },
  {
   "cell_type": "markdown",
   "metadata": {},
   "source": [
    "# Linear Referencing"
   ]
  },
  {
   "cell_type": "markdown",
   "metadata": {},
   "source": []
  }
 ],
 "metadata": {
  "kernelspec": {
   "display_name": "venv",
   "language": "python",
   "name": "python3"
  },
  "language_info": {
   "codemirror_mode": {
    "name": "ipython",
    "version": 3
   },
   "file_extension": ".py",
   "mimetype": "text/x-python",
   "name": "python",
   "nbconvert_exporter": "python",
   "pygments_lexer": "ipython3",
   "version": "3.12.3"
  }
 },
 "nbformat": 4,
 "nbformat_minor": 2
}
